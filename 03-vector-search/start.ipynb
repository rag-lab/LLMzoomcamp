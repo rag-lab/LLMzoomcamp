{
 "cells": [
  {
   "cell_type": "code",
   "execution_count": 9,
   "metadata": {},
   "outputs": [],
   "source": [
    "from sentence_transformers import SentenceTransformer, util\n",
    "\n",
    "#Load the model\n",
    "model = SentenceTransformer('sentence-transformers/multi-qa-distilbert-cos-v1')"
   ]
  },
  {
   "cell_type": "code",
   "execution_count": 10,
   "metadata": {},
   "outputs": [
    {
     "name": "stdout",
     "output_type": "stream",
     "text": [
      "Q1- Whats the first value of the resulting vector?\n",
      "0.078222655\n"
     ]
    }
   ],
   "source": [
    "query = \"I just discovered the course. Can I still join it?\"\n",
    "docs = [\"\"]\n",
    "\n",
    "#Encode query and documents\n",
    "query_emb = model.encode(query)\n",
    "v = query_emb\n",
    "doc_emb = model.encode(docs)\n",
    "\n",
    "#Compute dot score between query and all document embeddings\n",
    "scores = util.dot_score(query_emb, doc_emb)[0].cpu().tolist()\n",
    "#print(scores)\n",
    "\n",
    "print ('Q1- What''s the first value of the resulting vector?')\n",
    "print(query_emb[0])\n"
   ]
  },
  {
   "cell_type": "code",
   "execution_count": 12,
   "metadata": {},
   "outputs": [],
   "source": [
    "import requests \n",
    "\n",
    "base_url = 'https://github.com/DataTalksClub/llm-zoomcamp/blob/main'\n",
    "relative_url = '03-vector-search/eval/documents-with-ids.json'\n",
    "docs_url = f'{base_url}/{relative_url}?raw=1'\n",
    "docs_response = requests.get(docs_url)\n",
    "documents = docs_response.json()"
   ]
  },
  {
   "cell_type": "code",
   "execution_count": 11,
   "metadata": {},
   "outputs": [],
   "source": [
    "#filter\n",
    "fitered_ml_docs = []\n",
    "for doc in documents:\n",
    "    if doc['course'] == 'machine-learning-zoomcamp':        \n",
    "        fitered_ml_docs.append(doc)\n",
    "\n"
   ]
  },
  {
   "cell_type": "code",
   "execution_count": 13,
   "metadata": {},
   "outputs": [],
   "source": [
    "#get embeddings_fitered_ml_docs\n",
    "embeddings_fitered_ml_docs = []\n",
    "for doc in fitered_ml_docs:\n",
    "    qa_text = f\"{doc['question']} {doc['text']}\"\n",
    "    embeddings_fitered_ml_docs.append(model.encode(qa_text))"
   ]
  },
  {
   "cell_type": "code",
   "execution_count": 14,
   "metadata": {},
   "outputs": [
    {
     "name": "stdout",
     "output_type": "stream",
     "text": [
      "Q2- Whats the shape of X? (X.shape)\n",
      "(375, 768)\n"
     ]
    }
   ],
   "source": [
    "#convert with numpy\n",
    "import numpy as np\n",
    "x=[]\n",
    "x = np.array(embeddings_fitered_ml_docs)\n",
    "\n",
    "print ('Q2- What''s the shape of X? (X.shape)')\n",
    "print(x.shape)"
   ]
  },
  {
   "cell_type": "code",
   "execution_count": 15,
   "metadata": {},
   "outputs": [
    {
     "name": "stdout",
     "output_type": "stream",
     "text": [
      "Q3 - Whats the highest score in the results?\n",
      "0.6506573\n"
     ]
    }
   ],
   "source": [
    "scores = x.dot(v)\n",
    "max = np.max(scores)\n",
    "print ('Q3 - What''s the highest score in the results?')\n",
    "print(max)\n"
   ]
  },
  {
   "cell_type": "code",
   "execution_count": 16,
   "metadata": {},
   "outputs": [],
   "source": [
    "class VectorSearchEngine():\n",
    "    def __init__(self, documents, embeddings):\n",
    "        self.documents = documents\n",
    "        self.embeddings = embeddings\n",
    "\n",
    "    def search(self, v_query, num_results=10):\n",
    "        scores = self.embeddings.dot(v_query)\n",
    "        idx = np.argsort(-scores)[:num_results]\n",
    "        return [self.documents[i] for i in idx]\n"
   ]
  },
  {
   "cell_type": "code",
   "execution_count": 17,
   "metadata": {},
   "outputs": [],
   "source": [
    "# np_emb_filtered_ml_docs = np.array(embeddings_fitered_ml_docs)\n",
    "# banana= VectorSearchEngine(fitered_ml_docs, np_emb_filtered_ml_docs)\n",
    "# maca = banana.search(query_emb, num_results=5)\n",
    "# maca"
   ]
  },
  {
   "cell_type": "code",
   "execution_count": 45,
   "metadata": {},
   "outputs": [],
   "source": [
    "import pandas as pd\n",
    "from tqdm.auto import tqdm\n",
    "\n",
    "base_url = 'https://github.com/DataTalksClub/llm-zoomcamp/blob/main'\n",
    "relative_url = '03-vector-search/eval/ground-truth-data.csv'\n",
    "ground_truth_url = f'{base_url}/{relative_url}?raw=1'\n",
    "\n",
    "df_ground_truth = pd.read_csv(ground_truth_url)\n",
    "df_ground_truth = df_ground_truth[df_ground_truth.course == 'machine-learning-zoomcamp']\n",
    "ground_truth = df_ground_truth.to_dict(orient='records')\n",
    "gt_question_embeddings = []\n"
   ]
  },
  {
   "cell_type": "code",
   "execution_count": 46,
   "metadata": {},
   "outputs": [
    {
     "name": "stderr",
     "output_type": "stream",
     "text": [
      "100%|██████████| 1830/1830 [01:17<00:00, 23.51it/s]\n"
     ]
    }
   ],
   "source": [
    "#crate an embeddings array with all the questions from gt\n",
    "for doc in tqdm(ground_truth):\n",
    "    q = doc['question']\n",
    "    q_v = model.encode(q)\n",
    "    doc['vquestion']=q_v\n",
    "    gt_question_embeddings.append(q_v)"
   ]
  },
  {
   "cell_type": "code",
   "execution_count": 47,
   "metadata": {},
   "outputs": [
    {
     "data": {
      "text/plain": [
       "{'question': 'Where can I sign up for the course?',\n",
       " 'course': 'machine-learning-zoomcamp',\n",
       " 'document': '0227b872',\n",
       " 'vquestion': array([ 9.80187729e-02, -3.25485389e-03,  5.20954914e-02, -7.79575342e-03,\n",
       "         8.67941231e-02,  3.88571173e-02,  4.64866422e-02,  3.89426425e-02,\n",
       "         5.92647819e-03,  1.11361872e-02, -2.46879682e-02, -4.95579652e-02,\n",
       "         1.01311065e-01, -2.28015445e-02,  2.11680271e-02, -1.74905304e-02,\n",
       "         4.09106165e-02, -2.01090407e-02, -1.14281271e-02, -4.24045064e-02,\n",
       "        -1.00629292e-02,  1.51091330e-02,  2.56886631e-02,  1.80889182e-02,\n",
       "        -2.73963828e-02,  6.96142688e-02,  5.53158522e-02,  2.74974816e-02,\n",
       "        -3.61659601e-02, -2.12623216e-02,  1.63038541e-02,  2.62813251e-02,\n",
       "         3.82378139e-02,  6.22039335e-03,  2.72464268e-02, -3.14834900e-03,\n",
       "        -3.23529094e-02, -1.93135384e-02,  2.69396175e-02,  5.85127063e-03,\n",
       "        -4.19716612e-02,  1.15671484e-02,  4.71097231e-02, -1.33657095e-03,\n",
       "         1.75673831e-02, -4.90490980e-02, -3.05672660e-02, -3.99443135e-02,\n",
       "        -3.00556011e-02, -7.40812300e-03, -9.89988260e-03,  6.57496303e-02,\n",
       "         1.06557868e-02, -4.85231094e-02,  3.25434655e-02,  1.70675050e-02,\n",
       "        -3.04053014e-04, -3.53767350e-02, -5.77869043e-02,  3.68698090e-02,\n",
       "        -1.16855111e-02,  7.03717768e-02,  6.50221528e-03,  7.69913271e-02,\n",
       "        -7.88417365e-03,  3.98728577e-03,  9.51514393e-02,  1.28863379e-02,\n",
       "        -1.76307727e-02, -5.23167439e-02,  3.75161283e-02,  2.42850147e-02,\n",
       "         8.25050473e-03, -5.31002239e-04, -2.67241653e-02, -3.95451486e-02,\n",
       "        -1.24421185e-02,  3.21427584e-02,  1.94123220e-02,  1.85119249e-02,\n",
       "         6.67788982e-02,  1.13349166e-02,  4.53491360e-02, -1.20838564e-02,\n",
       "         3.96321714e-02,  2.99595501e-02, -3.00129671e-02, -4.31632511e-02,\n",
       "         6.63146330e-03,  1.53340464e-02,  2.08486933e-02,  1.10031590e-02,\n",
       "        -4.60568219e-02, -4.25083004e-03,  7.82139786e-03, -2.03948542e-02,\n",
       "         2.17409413e-02, -7.53859291e-03,  1.97766293e-02, -5.32719539e-03,\n",
       "        -5.18403202e-02,  4.48004436e-03,  1.08443219e-02,  1.06238052e-02,\n",
       "         6.09510764e-03,  2.21002661e-02, -2.18235776e-02, -6.59795925e-02,\n",
       "        -2.13912856e-02,  6.09724782e-02, -3.87483463e-02, -1.56591441e-02,\n",
       "         3.06902127e-03, -8.57008807e-03, -4.71758482e-04,  1.09291701e-02,\n",
       "         3.93121950e-02,  4.93047619e-03, -2.19872389e-02,  2.30636611e-03,\n",
       "        -5.01799658e-02,  3.40425596e-02,  3.21539938e-02,  5.00777066e-02,\n",
       "         3.75564285e-02,  4.38968539e-02, -2.93100253e-02,  1.98103413e-02,\n",
       "        -3.96476015e-02, -4.54564765e-02, -3.86524945e-02, -4.94986624e-02,\n",
       "         6.94758594e-02, -1.63328033e-02,  1.75221153e-02,  5.38091883e-02,\n",
       "        -2.10350826e-02, -3.68804336e-02, -3.31933089e-02,  7.46418983e-02,\n",
       "        -6.66640326e-03,  3.74516770e-02,  3.28006619e-03, -4.61443923e-02,\n",
       "        -4.81527708e-02,  1.64878406e-02, -2.34513544e-02, -1.56666734e-03,\n",
       "        -1.81582607e-02, -4.66695521e-03,  3.21651660e-02,  1.40980184e-02,\n",
       "        -1.76496170e-02, -2.15508677e-02, -2.48620342e-02,  3.47733907e-02,\n",
       "         8.63868091e-03,  5.99408969e-02,  2.93474253e-02, -2.43421774e-02,\n",
       "        -3.50441113e-02,  3.18054669e-03,  1.12915067e-02,  1.46403974e-02,\n",
       "         3.23802531e-02,  4.46244963e-02, -2.31922530e-02, -5.39484285e-02,\n",
       "        -1.66380554e-02,  9.30243230e-04, -7.16900500e-03, -2.13449374e-02,\n",
       "         3.29277925e-02, -2.41357889e-02, -6.54809643e-03, -4.11646217e-02,\n",
       "        -3.90668437e-02, -9.19567049e-03,  2.22040135e-02,  3.24013364e-03,\n",
       "        -1.20169140e-01, -5.94683476e-02,  2.82377098e-02, -2.60965191e-02,\n",
       "         1.70524586e-02, -4.17209752e-02, -3.59824710e-02,  1.83260199e-02,\n",
       "         9.11708921e-03,  5.27106337e-02, -7.16618169e-03,  2.69086175e-02,\n",
       "        -3.71715357e-03, -2.68031135e-02,  1.74735766e-02, -2.38071196e-02,\n",
       "        -3.67524028e-02,  9.34297685e-03,  1.81008736e-03,  2.83466205e-02,\n",
       "         1.82886384e-02,  2.96536982e-02, -8.05563033e-02,  1.49623938e-02,\n",
       "        -6.11562431e-02,  2.68432107e-02,  2.05618795e-02, -1.38792722e-02,\n",
       "        -1.08940080e-02, -6.55565783e-02,  1.90467841e-03, -3.55283841e-02,\n",
       "         2.57916879e-02,  4.06823643e-02, -1.52215955e-03, -1.57260932e-02,\n",
       "         1.13159139e-02, -1.57286245e-02,  2.19948329e-02, -5.97433606e-03,\n",
       "         8.47842079e-03, -1.32145425e-02,  4.72297333e-03, -4.75518443e-02,\n",
       "        -2.82988437e-02, -3.75681669e-02, -5.88664412e-02,  4.18784395e-02,\n",
       "        -1.56310163e-02, -9.86295640e-02,  2.11342834e-02, -5.39206527e-03,\n",
       "         4.76170443e-02, -1.31985638e-02,  2.03579981e-02, -4.82017063e-02,\n",
       "        -3.72162573e-02, -6.96419850e-02,  2.35351808e-02,  3.72903189e-04,\n",
       "         2.09065042e-02, -4.15561115e-03, -3.74243334e-02,  5.47504798e-03,\n",
       "         5.93003668e-02,  3.73948663e-02,  7.68263405e-03,  4.35727388e-02,\n",
       "         5.38018309e-02, -1.41352247e-02,  4.02793214e-02, -8.78587961e-02,\n",
       "         2.70383097e-02,  1.33934524e-02, -5.18762320e-02,  3.08384970e-02,\n",
       "        -5.11379950e-02, -1.48243625e-02,  5.58633469e-02,  2.41234191e-02,\n",
       "         1.22767752e-02,  4.18382995e-02, -2.45066807e-02,  2.33224798e-02,\n",
       "        -1.53583591e-03, -4.58167754e-02, -1.33906845e-02, -3.30639482e-02,\n",
       "        -1.36298621e-02,  1.90800261e-02, -3.85384299e-02, -4.54988405e-02,\n",
       "        -2.29150262e-02, -3.47943977e-02, -1.83544476e-02,  5.18885907e-03,\n",
       "        -1.61047969e-02,  2.48312894e-02,  3.18879485e-02,  2.07141717e-03,\n",
       "         3.62143759e-03, -1.35981524e-02, -2.37184223e-02, -2.23179837e-03,\n",
       "        -1.36947306e-02,  5.24319932e-02, -1.34763457e-02,  1.13911349e-02,\n",
       "        -1.03001883e-02,  1.41557334e-02,  6.10128492e-02,  6.34229109e-02,\n",
       "         6.40390217e-02,  1.62232779e-02,  6.51808158e-02, -4.93941158e-02,\n",
       "         4.73566167e-02, -3.62433568e-02, -1.65505018e-02,  3.28670926e-02,\n",
       "         5.36903664e-02,  1.70450695e-02,  1.22681009e-02,  1.77886821e-02,\n",
       "         5.22375032e-02, -1.01845828e-03, -3.10885422e-02, -4.87055331e-02,\n",
       "        -3.22915241e-02, -5.23373634e-02, -2.68365927e-02,  1.48487575e-02,\n",
       "         5.01632281e-02, -7.23531246e-02,  1.61416885e-02, -4.11207490e-02,\n",
       "        -5.72024137e-02, -1.45246498e-02, -4.20642421e-02,  1.48329797e-04,\n",
       "        -6.45660702e-03,  7.89333507e-03,  3.72348912e-02,  8.55758935e-02,\n",
       "         2.30853092e-02,  1.10627105e-02,  5.06948726e-03,  2.87351869e-02,\n",
       "         2.48997342e-02, -2.92200712e-03,  2.59387679e-02,  4.63451780e-02,\n",
       "         1.99088790e-02,  2.59941872e-02, -5.19725606e-02,  2.24989019e-02,\n",
       "         9.62655339e-03, -2.48953551e-02,  4.61598305e-04,  2.93492284e-02,\n",
       "         1.41469645e-03,  5.10424934e-02, -3.56155611e-03,  3.44121866e-02,\n",
       "         2.17060908e-03, -2.79832408e-02, -4.43966277e-02, -4.82405238e-02,\n",
       "        -3.26152742e-02, -1.64445676e-02,  6.73441542e-03,  1.30721666e-02,\n",
       "         1.03705032e-02, -3.79574224e-02,  2.18155067e-02, -9.03454982e-03,\n",
       "        -4.35224697e-02,  1.49603782e-03, -2.01387536e-02,  1.15406523e-02,\n",
       "         8.10387451e-03,  3.04350406e-02, -4.42792252e-02, -4.05635349e-02,\n",
       "        -1.18389744e-02,  3.35921943e-02, -7.76087912e-03, -5.76379243e-03,\n",
       "         8.50803033e-03,  3.29578444e-02,  2.37312317e-02, -6.40784502e-02,\n",
       "        -5.08277975e-02,  3.25291157e-02, -1.64254550e-02, -1.09936642e-02,\n",
       "        -1.97153948e-02,  5.08783869e-02,  1.65475495e-02, -2.20370516e-02,\n",
       "        -4.98108193e-02, -2.17024405e-02, -4.74836677e-02,  6.91976631e-03,\n",
       "         6.57871068e-02, -3.38409208e-02,  4.77350168e-02,  6.34946907e-03,\n",
       "        -2.04571672e-02,  3.44999731e-02,  6.01676889e-02,  3.66645232e-02,\n",
       "         4.70799245e-02, -5.40233105e-02, -2.78420802e-02, -1.00971833e-02,\n",
       "        -2.68449495e-03, -1.94295142e-02, -2.64885034e-02,  8.89235437e-02,\n",
       "        -1.35605456e-02,  2.65945401e-02,  2.12147683e-02,  4.52916250e-02,\n",
       "         2.85143964e-02, -1.06776860e-02,  1.83642469e-02, -4.55191247e-02,\n",
       "         4.73214164e-02,  1.91001911e-02, -1.89374369e-02,  1.89640932e-02,\n",
       "        -2.24406607e-02, -6.16897643e-02,  2.32019071e-02, -2.68862415e-02,\n",
       "         3.46004516e-02,  2.02931687e-02,  3.53443325e-02, -1.40057150e-02,\n",
       "        -6.85683340e-02,  3.19245905e-02, -4.18977141e-02, -3.53251919e-02,\n",
       "        -2.70117149e-02, -1.04580140e-02,  8.66374746e-03,  2.33064536e-02,\n",
       "         6.48022909e-03,  1.02611920e-02,  5.24765849e-02,  2.14570072e-02,\n",
       "         3.93066332e-02, -1.92243904e-02, -6.29789941e-03, -5.01826347e-04,\n",
       "         3.21542546e-02,  1.21048270e-02,  4.15556021e-02,  1.38215553e-02,\n",
       "        -5.49888127e-02, -1.06633632e-02,  1.59671903e-02,  4.95900512e-02,\n",
       "         2.65054293e-02,  3.05554941e-02,  5.37625439e-02,  4.34184447e-02,\n",
       "         1.47095229e-02,  1.49053158e-02,  3.77503000e-02,  9.85154510e-03,\n",
       "         9.36360136e-02, -2.88535561e-02, -1.01604745e-01,  3.25421691e-02,\n",
       "         3.97658674e-03, -3.93619463e-02,  7.93451965e-02, -2.21554358e-02,\n",
       "        -1.64352003e-02,  3.72964889e-02,  1.67329088e-02, -3.87402922e-02,\n",
       "        -4.97107506e-02, -1.75986439e-03, -2.28202697e-02,  2.71752253e-02,\n",
       "        -4.46073152e-03,  1.49321393e-03, -1.52572980e-02, -2.68338881e-02,\n",
       "        -1.61382277e-02,  2.05842275e-02, -1.33773068e-03, -7.14712357e-03,\n",
       "        -4.33603227e-02, -4.33478318e-02,  5.24449125e-02, -1.92156397e-02,\n",
       "         2.03251634e-02, -1.07781142e-02,  2.12078393e-02, -3.55467871e-02,\n",
       "         2.71070823e-02, -4.08036821e-02,  3.90121490e-02, -7.34503716e-02,\n",
       "         1.23919118e-02, -4.72046584e-02,  2.94478480e-02,  1.57180689e-02,\n",
       "         6.53385231e-03, -9.21788532e-03, -5.27572520e-02, -4.36315387e-02,\n",
       "         1.18863601e-02, -1.39511367e-02,  4.61151125e-03, -1.21143563e-02,\n",
       "        -3.52962464e-02, -3.55384424e-02, -7.92689100e-02, -3.27309296e-02,\n",
       "        -1.92321301e-03, -3.48097496e-02, -1.93891823e-02,  3.85150798e-02,\n",
       "        -4.98332381e-02,  2.53833849e-02, -3.21152098e-02, -1.24295829e-02,\n",
       "        -1.45418262e-02, -1.65183544e-02,  2.51734555e-02, -4.88555961e-05,\n",
       "        -7.59365223e-03, -3.08230855e-02, -2.02338696e-02, -1.67490132e-02,\n",
       "        -3.90418409e-03, -2.21489556e-02, -7.40619078e-02, -8.95680953e-03,\n",
       "        -6.54698014e-02,  3.79657969e-02,  1.10380985e-02,  7.98956603e-02,\n",
       "        -8.21341481e-03,  3.42777930e-02, -6.37223059e-03,  6.92138821e-03,\n",
       "         3.83944390e-03,  3.43681797e-02,  3.19179110e-02, -2.72323173e-02,\n",
       "        -2.09687017e-02, -1.45001467e-02, -7.53793195e-02,  3.22363782e-03,\n",
       "        -4.53190971e-03, -1.58745553e-02,  2.08899099e-02, -3.86044234e-02,\n",
       "        -3.62383798e-02, -2.48637181e-02, -3.52531560e-02, -3.03821312e-03,\n",
       "        -5.02759963e-02,  1.43897664e-02, -4.54112142e-02,  2.09963098e-02,\n",
       "        -1.13221882e-02,  6.51606172e-02,  4.27610660e-03,  3.72718694e-03,\n",
       "         2.80408375e-02, -7.62524642e-03,  2.00113188e-02, -3.56352073e-03,\n",
       "         5.99822821e-03, -2.08691470e-02, -7.99298137e-02,  5.79884618e-05,\n",
       "         4.14482765e-02,  5.64449131e-02, -2.81808921e-03, -2.81142984e-02,\n",
       "         2.93675512e-02, -3.12002543e-02, -5.08009270e-02, -1.66363381e-02,\n",
       "        -1.84562840e-02,  2.50653718e-02,  1.59008894e-02, -6.76478259e-03,\n",
       "        -3.37371938e-02, -9.52033047e-03, -1.95254218e-02, -1.85276903e-02,\n",
       "         3.08117382e-02,  5.17615490e-03,  3.41611356e-02, -2.73609180e-02,\n",
       "         4.82354574e-02, -7.75176287e-02,  3.90620567e-02,  4.67577316e-02,\n",
       "         2.60985754e-02,  1.27435420e-02, -6.51357556e-03,  8.15851055e-03,\n",
       "         3.01991720e-02,  2.01903116e-02, -3.52632068e-02,  2.39107683e-02,\n",
       "        -3.04851700e-02, -3.03423987e-03,  1.63262393e-02,  1.00455033e-02,\n",
       "         1.00531038e-02, -1.35065261e-02, -9.31074843e-03,  5.72187677e-02,\n",
       "         2.50431616e-02, -1.55677469e-02,  4.89567295e-02,  3.41990218e-02,\n",
       "        -5.78672765e-03,  3.48802023e-02,  1.61216129e-03,  2.49518566e-02,\n",
       "        -2.67630890e-02, -7.52024120e-03,  2.77001187e-02,  1.36389602e-02,\n",
       "         3.33919227e-02,  9.65773768e-04, -1.05011901e-02, -4.74161953e-02,\n",
       "         2.38720663e-02, -1.56442001e-02, -2.44535282e-02,  1.22492621e-02,\n",
       "         1.16180927e-02, -7.53883868e-02, -1.05126183e-02, -2.38871910e-02,\n",
       "        -1.32281063e-02,  2.46624625e-03,  7.12304860e-02, -4.06505680e-03,\n",
       "         3.87153737e-02, -1.21002262e-02, -2.75140461e-02, -2.42558848e-02,\n",
       "        -1.15374224e-02, -4.45774663e-03, -6.92054108e-02, -3.03864703e-02,\n",
       "         2.20207386e-02,  2.23232433e-02, -2.62296665e-02, -2.37885639e-02,\n",
       "        -5.20631261e-02, -5.79534583e-02, -4.76283059e-02, -2.35343948e-02,\n",
       "        -5.32883927e-02, -3.34896408e-02,  5.23157343e-02,  4.00070623e-02,\n",
       "        -3.25400196e-02,  3.11229378e-02,  3.96686932e-03,  4.35906835e-02,\n",
       "        -3.81299556e-04, -3.43410112e-02,  2.93649510e-02, -4.09673937e-02,\n",
       "         1.63849499e-02, -5.69981858e-02, -3.47301289e-02, -2.03544702e-02,\n",
       "        -6.65085688e-02,  1.82935148e-02, -3.62602919e-02,  6.96602166e-02,\n",
       "         6.38769940e-03, -1.97933204e-02,  1.81591194e-02, -3.69551894e-03,\n",
       "        -1.87775064e-02,  4.39558327e-02,  6.99561164e-02, -8.07211623e-02,\n",
       "         3.03701721e-02,  6.46795034e-02,  4.80568921e-03,  3.26561742e-02,\n",
       "         1.07078142e-02,  5.84899494e-03,  1.01159252e-02,  1.92807149e-03,\n",
       "        -2.57794671e-02,  1.45219425e-02,  1.62918270e-02, -2.89968774e-02,\n",
       "        -7.93555565e-03, -4.24122345e-03, -1.08404970e-02,  2.26287376e-02,\n",
       "         9.76446941e-02, -1.05276994e-01,  1.65351033e-02, -4.51666228e-02,\n",
       "        -9.74218398e-02,  5.47210947e-02, -1.62702594e-02, -3.86101529e-02,\n",
       "         9.94828790e-02,  3.47622274e-03, -7.57488771e-04, -3.05584650e-02,\n",
       "         5.87678365e-02, -4.65549640e-02,  1.07356384e-02,  2.46926211e-02,\n",
       "        -3.72185409e-02, -1.06277941e-02, -6.32478017e-03, -9.15810987e-02,\n",
       "        -1.85841303e-02,  6.39207661e-03,  6.69390261e-02,  4.32496369e-02,\n",
       "        -7.31876213e-03,  4.55837436e-02,  3.33446786e-02,  1.09551229e-01,\n",
       "         5.93296587e-02,  4.50187996e-02, -3.75295873e-03,  3.81676406e-02,\n",
       "         7.49715716e-02,  4.18890864e-02, -1.62314828e-02,  4.09265980e-02,\n",
       "        -6.78106770e-02,  6.95285574e-02,  2.14954633e-02,  9.27973248e-04,\n",
       "         4.74435762e-02,  1.16087068e-02, -8.36592019e-02,  1.91827044e-02,\n",
       "         1.07498160e-02,  2.62094829e-02,  2.84473225e-02, -1.09259509e-01,\n",
       "         1.80107858e-02,  7.64165148e-02,  8.93636048e-03,  2.25085020e-02,\n",
       "         4.14633229e-02,  2.70081852e-02, -1.08719760e-04,  1.12502957e-02,\n",
       "        -5.00677973e-02,  4.10082601e-02,  7.47144818e-02,  9.54913162e-03,\n",
       "         1.55572454e-02, -2.83751115e-02,  3.09168585e-02, -4.97793965e-02,\n",
       "         3.73157822e-02, -4.27123345e-02,  3.75344455e-02,  8.76444299e-03,\n",
       "        -6.26207665e-02, -4.61955257e-02, -1.31047470e-02, -1.21540471e-03,\n",
       "        -4.54266556e-02,  5.15284203e-02, -4.77060229e-02,  4.35100086e-02],\n",
       "       dtype=float32)}"
      ]
     },
     "execution_count": 47,
     "metadata": {},
     "output_type": "execute_result"
    }
   ],
   "source": [
    "ground_truth[0]"
   ]
  },
  {
   "cell_type": "code",
   "execution_count": 48,
   "metadata": {},
   "outputs": [],
   "source": [
    "import numpy as np\n",
    "#convert to nparray (needed for the search)\n",
    "np_queston_emb=[]\n",
    "np_queston_emb = np.array(gt_question_embeddings)"
   ]
  },
  {
   "cell_type": "code",
   "execution_count": 49,
   "metadata": {},
   "outputs": [],
   "source": [
    "#pass the original documents and the emb_questions nparray \n",
    "search_engine = VectorSearchEngine(ground_truth, np_queston_emb)"
   ]
  },
  {
   "cell_type": "code",
   "execution_count": 51,
   "metadata": {},
   "outputs": [
    {
     "name": "stderr",
     "output_type": "stream",
     "text": [
      "100%|██████████| 1830/1830 [00:00<00:00, 4195.63it/s]"
     ]
    },
    {
     "name": "stdout",
     "output_type": "stream",
     "text": [
      "Q4 - Now use the code from the module to calculate the hitrate of VectorSearchEngine with num_results=5./nWhat did you get?\n",
      "0.9972677595628415\n"
     ]
    },
    {
     "name": "stderr",
     "output_type": "stream",
     "text": [
      "\n"
     ]
    }
   ],
   "source": [
    "\n",
    "def hit_rate(relevance_total):\n",
    "    cnt = 0\n",
    "    for line in relevance_total:\n",
    "        if True in line:\n",
    "            cnt = cnt + 1\n",
    "    return cnt / len(relevance_total)\n",
    "\n",
    "\n",
    "def evaluateVSE(ground_truth, se):\n",
    "    relevance_total = []\n",
    "\n",
    "    for q in tqdm(ground_truth):\n",
    "        doc_id = q['document']\n",
    "        results =  se(q['vquestion'], 5)\n",
    "        relevance = [d['document'] == doc_id for d in results]\n",
    "        relevance_total.append(relevance)\n",
    "    return {\n",
    "        'hit_rate': hit_rate(relevance_total)\n",
    "    }\n",
    "\n",
    "hitrate = evaluateVSE(ground_truth, search_engine.search)\n",
    "print ('Q4 - Now use the code from the module to calculate the hitrate of VectorSearchEngine with num_results=5./nWhat did you get?')\n",
    "print(hitrate['hit_rate'])\n"
   ]
  },
  {
   "cell_type": "code",
   "execution_count": 52,
   "metadata": {},
   "outputs": [],
   "source": [
    "from elasticsearch import Elasticsearch\n",
    "from tqdm.auto import tqdm"
   ]
  },
  {
   "cell_type": "code",
   "execution_count": null,
   "metadata": {},
   "outputs": [],
   "source": [
    "##JSON\n",
    "# base_url = 'https://github.com/DataTalksClub/llm-zoomcamp/blob/main'\n",
    "# relative_url = '03-vector-search/eval/documents-with-ids.json'\n",
    "# docs_url = f'{base_url}/{relative_url}?raw=1'\n",
    "# docs_response = requests.get(docs_url)\n",
    "# documents = docs_response.json()"
   ]
  },
  {
   "cell_type": "code",
   "execution_count": 31,
   "metadata": {},
   "outputs": [],
   "source": [
    "#CSV\n",
    "base_url = 'https://github.com/DataTalksClub/llm-zoomcamp/blob/main'\n",
    "relative_url = '03-vector-search/eval/ground-truth-data.csv'\n",
    "ground_truth_url = f'{base_url}/{relative_url}?raw=1'\n",
    "\n",
    "df_ground_truth = pd.read_csv(ground_truth_url)\n",
    "df_ground_truth = df_ground_truth[df_ground_truth.course == 'machine-learning-zoomcamp']\n",
    "ground_truth = df_ground_truth.to_dict(orient='records')"
   ]
  },
  {
   "cell_type": "code",
   "execution_count": 32,
   "metadata": {},
   "outputs": [
    {
     "name": "stderr",
     "output_type": "stream",
     "text": [
      "100%|██████████| 1830/1830 [01:19<00:00, 23.15it/s]\n"
     ]
    }
   ],
   "source": [
    "for doc in tqdm(ground_truth):\n",
    "    question = doc['question']\n",
    "    # text = doc['text']\n",
    "    # q_a = question + ' ' + text\n",
    "\n",
    "    doc['vquestion'] = model.encode(question)\n",
    "    # doc['vtext'] = model.encode(text)\n",
    "    # doc['vqa'] = model.encode(q_a)\n",
    "\n"
   ]
  },
  {
   "cell_type": "code",
   "execution_count": 53,
   "metadata": {},
   "outputs": [
    {
     "data": {
      "text/plain": [
       "ObjectApiResponse({'acknowledged': True, 'shards_acknowledged': True, 'index': 'course-questions'})"
      ]
     },
     "execution_count": 53,
     "metadata": {},
     "output_type": "execute_result"
    }
   ],
   "source": [
    "#es_client = Elasticsearch('http://localhost:9200')\n",
    "es_client = Elasticsearch('http://localhost:9200', max_retries=10, retry_on_timeout=True) \n",
    "\n",
    "index_settings = {\n",
    "    \"settings\": {\n",
    "        \"number_of_shards\": 1,\n",
    "        \"number_of_replicas\": 0\n",
    "    },\n",
    "    \"mappings\": {\n",
    "        \"properties\": {\n",
    "            \"text\": {\"type\": \"text\"},\n",
    "            \"section\": {\"type\": \"text\"},\n",
    "            \"question\": {\"type\": \"text\"},\n",
    "            \"course\": {\"type\": \"keyword\"},\n",
    "            \"id\": {\"type\": \"keyword\"},\n",
    "            \"vquestion\": {\n",
    "                \"type\": \"dense_vector\",\n",
    "                \"dims\": 768,\n",
    "                \"index\": True,\n",
    "                \"similarity\": \"cosine\"\n",
    "            },\n",
    "            \"vtext\": {\n",
    "                \"type\": \"dense_vector\",\n",
    "                \"dims\": 768,\n",
    "                \"index\": True,\n",
    "                \"similarity\": \"cosine\"\n",
    "            },\n",
    "            \"vqa\": {\n",
    "                \"type\": \"dense_vector\",\n",
    "                \"dims\": 768,\n",
    "                \"index\": True,\n",
    "                \"similarity\": \"cosine\"\n",
    "            },\n",
    "        }\n",
    "    }\n",
    "}\n",
    "\n",
    "index_name = \"course-questions\"\n",
    "\n",
    "es_client.indices.delete(index=index_name, ignore_unavailable=True)\n",
    "es_client.indices.create(index=index_name, body=index_settings)"
   ]
  },
  {
   "cell_type": "code",
   "execution_count": 54,
   "metadata": {},
   "outputs": [
    {
     "name": "stderr",
     "output_type": "stream",
     "text": [
      "100%|██████████| 1830/1830 [00:43<00:00, 41.92it/s]\n"
     ]
    }
   ],
   "source": [
    "for doc in tqdm(ground_truth):\n",
    "    es_client.index(index=index_name,document= doc)"
   ]
  },
  {
   "cell_type": "code",
   "execution_count": null,
   "metadata": {},
   "outputs": [],
   "source": [
    "\n",
    "# #simple ES query POC\n",
    "# q = ''\n",
    "# v_q = query_emb\n",
    "\n",
    "# queryParams = {\n",
    "#      \"field\": \"vquestion\",\n",
    "#      \"query_vector\": v_q,\n",
    "#      \"k\": 5,\n",
    "#      \"num_candidates\": 1000\n",
    "# }\n",
    "\n",
    "\n",
    "# es_result = es_client.search(\n",
    "#     index=index_name, \n",
    "#     knn=queryParams,\n",
    "#     source=[\"question\", \"course\", \"document\"]\n",
    "# )\n",
    "\n",
    "# print('Total:', len(es_result['hits']['hits']))\n",
    "# es_result['hits']['hits']"
   ]
  },
  {
   "cell_type": "code",
   "execution_count": 55,
   "metadata": {},
   "outputs": [],
   "source": [
    "def elastic_search_knn_combined(vector, course):\n",
    "    search_query = {\n",
    "        \"size\": 5,\n",
    "        \"query\": {\n",
    "            \"bool\": {\n",
    "                \"must\": [\n",
    "                    {\n",
    "                        \"script_score\": {\n",
    "                            \"query\": {\n",
    "                                \"term\": {\n",
    "                                    \"course\": course\n",
    "                                }\n",
    "                            },\n",
    "                            \"script\": {\n",
    "                                \"source\": \"\"\"\n",
    "                                    cosineSimilarity(params.query_vector, 'vquestion') + 1\n",
    "                                \"\"\",\n",
    "                                \"params\": {\n",
    "                                    \"query_vector\": vector\n",
    "                                }\n",
    "                            }\n",
    "                        }\n",
    "                    }\n",
    "                ],\n",
    "                \"filter\": {\n",
    "                    \"term\": {\n",
    "                        \"course\": course\n",
    "                    }\n",
    "                }\n",
    "            }\n",
    "        },\n",
    "        \"_source\": [\"document\", \"question\", \"course\", \"id\"]\n",
    "    }\n",
    "\n",
    "    es_results = es_client.search(\n",
    "        index=index_name,\n",
    "        body=search_query\n",
    "    )\n",
    "    \n",
    "    result_docs = []\n",
    "    \n",
    "    for hit in es_results['hits']['hits']:\n",
    "        result_docs.append(hit['_source'])\n",
    "\n",
    "    return result_docs\n",
    "\n",
    "def elastic_search_knn(field, vector, course):\n",
    "    knn = {\n",
    "        \"field\": field,\n",
    "        \"query_vector\": vector,\n",
    "        \"k\": 5,\n",
    "        \"num_candidates\": 10000,\n",
    "        \"filter\": {\n",
    "            \"term\": {\n",
    "                \"course\": course\n",
    "            }\n",
    "        }\n",
    "    }\n",
    "\n",
    "    search_query = {\n",
    "        \"knn\": knn,\n",
    "        \"_source\": [\"question\", \"course\", \"document\"]\n",
    "    }\n",
    "\n",
    "    es_results = es_client.search(\n",
    "        index=index_name,\n",
    "        body=search_query\n",
    "    )\n",
    "    \n",
    "    result_docs = []\n",
    "    \n",
    "    for hit in es_results['hits']['hits']:\n",
    "        result_docs.append(hit['_source'])\n",
    "\n",
    "    return result_docs\n",
    "\n"
   ]
  },
  {
   "cell_type": "code",
   "execution_count": 56,
   "metadata": {},
   "outputs": [
    {
     "name": "stdout",
     "output_type": "stream",
     "text": [
      "Q5 - Whats the ID of the document with the highest score?\n",
      "ee58a693\n"
     ]
    }
   ],
   "source": [
    "results = elastic_search_knn('vquestion',query_emb, 'machine-learning-zoomcamp')\n",
    "print ('Q5 - What''s the ID of the document with the highest score?')\n",
    "print(results[0]['document'])\n"
   ]
  },
  {
   "cell_type": "code",
   "execution_count": 41,
   "metadata": {},
   "outputs": [
    {
     "name": "stderr",
     "output_type": "stream",
     "text": [
      "100%|██████████| 1830/1830 [01:35<00:00, 19.17it/s]\n"
     ]
    },
    {
     "data": {
      "text/plain": [
       "{'hit_rate': 0.9972677595628415}"
      ]
     },
     "execution_count": 41,
     "metadata": {},
     "output_type": "execute_result"
    }
   ],
   "source": [
    "def es_search(q):\n",
    "    #question=q['question']\n",
    "    course = q['course']\n",
    "    #v_q = model.encode(question)\n",
    "\n",
    "    return elastic_search_knn('vquestion', q['vquestion'], course)\n",
    "\n",
    "\n",
    "def evaluate2(ground_truth, search_function):\n",
    "    relevance_total = []\n",
    "\n",
    "    for q in tqdm(ground_truth):\n",
    "        doc_id = q['document']\n",
    "        results =  search_function(q)\n",
    "        relevance = [d['document'] == doc_id for d in results]\n",
    "        relevance_total.append(relevance)\n",
    "    return {\n",
    "        'hit_rate': hit_rate(relevance_total)\n",
    "    }\n",
    "\n",
    "evaluate2(ground_truth, es_search)"
   ]
  },
  {
   "cell_type": "code",
   "execution_count": null,
   "metadata": {},
   "outputs": [],
   "source": []
  },
  {
   "cell_type": "code",
   "execution_count": null,
   "metadata": {},
   "outputs": [],
   "source": []
  },
  {
   "cell_type": "code",
   "execution_count": null,
   "metadata": {},
   "outputs": [],
   "source": []
  },
  {
   "cell_type": "code",
   "execution_count": null,
   "metadata": {},
   "outputs": [],
   "source": []
  },
  {
   "cell_type": "code",
   "execution_count": null,
   "metadata": {},
   "outputs": [],
   "source": []
  }
 ],
 "metadata": {
  "kernelspec": {
   "display_name": "Python 3",
   "language": "python",
   "name": "python3"
  },
  "language_info": {
   "codemirror_mode": {
    "name": "ipython",
    "version": 3
   },
   "file_extension": ".py",
   "mimetype": "text/x-python",
   "name": "python",
   "nbconvert_exporter": "python",
   "pygments_lexer": "ipython3",
   "version": "3.10.13"
  }
 },
 "nbformat": 4,
 "nbformat_minor": 2
}
