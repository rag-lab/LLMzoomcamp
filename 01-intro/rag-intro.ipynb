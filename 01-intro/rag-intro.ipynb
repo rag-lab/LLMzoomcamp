{
 "cells": [
  {
   "cell_type": "code",
   "execution_count": null,
   "id": "5b979b21-4dee-421a-95fc-427dc93145fc",
   "metadata": {},
   "outputs": [],
   "source": [
    "!wget https://raw.githubusercontent.com/alexeygrigorev/minsearch/main/minsearch.py\n",
    "\n",
    "import minsearch\n",
    "import os\n",
    "import json\n",
    "import requests \n",
    "#\n",
    "import openai\n",
    "from openai import OpenAI\n",
    "#\n",
    "\n",
    "\n",
    "docs_url = 'https://github.com/DataTalksClub/llm-zoomcamp/blob/main/01-intro/documents.json?raw=1'\n",
    "docs_response = requests.get(docs_url)\n",
    "docs_raw = docs_response.json()\n",
    "openai_key=os.environ['OPENAI_API_KEY'] "
   ]
  },
  {
   "cell_type": "code",
   "execution_count": null,
   "id": "606b3e76-68e0-4c2f-9de2-0be9e85b4c8a",
   "metadata": {},
   "outputs": [],
   "source": [
    "# #reading from a file..\n",
    "# with open('documents.json','rt') as f_in:\n",
    "#     docs_raw = json.load(f_in)"
   ]
  },
  {
   "cell_type": "code",
   "execution_count": null,
   "id": "5279240d-f09f-4ff6-896d-7bc1a8d69e96",
   "metadata": {},
   "outputs": [],
   "source": [
    "documents = []\n",
    "for course_dict in docs_raw:\n",
    "    for doc in course_dict['documents']:\n",
    "        doc['course'] = course_dict['course']\n",
    "        documents.append(doc)\n",
    "\n",
    "#documents[:3]\n",
    "user_query=[]\n",
    "user_query.append('the course has already started, can I still enroll?')\n",
    "user_query.append('how do I install kafka?')\n",
    "\n"
   ]
  },
  {
   "cell_type": "code",
   "execution_count": null,
   "id": "4a38ebc8",
   "metadata": {},
   "outputs": [],
   "source": [
    "user_query"
   ]
  },
  {
   "cell_type": "code",
   "execution_count": null,
   "id": "c212dcd7",
   "metadata": {},
   "outputs": [],
   "source": [
    "def build_prompt(query, search_results):\n",
    "\n",
    "    prompt_template = \"\"\"\n",
    "    You're a course teaching assistant. Answer the QUESTION based on the CONTEXT from the FAQ database.\n",
    "    Use only the facts from the CONTEXT when answering the QUESTION.\n",
    "    QUESTION: {question}\n",
    "    CONTEXT: \n",
    "    {context}\n",
    "    \"\"\".strip()\n",
    "    \n",
    "    context = \"\"\n",
    "    #get the context from \n",
    "    for doc in search_results:\n",
    "        context = context + f\"section: {doc['section']}\\nquestion: {doc['question']}\\nanswer: {doc['text']}\\n\\n\"\n",
    "\n",
    "    prompt = prompt_template.format(question=query, context=context).strip()\n",
    "    #print(prompt)    \n",
    "    return prompt\n",
    "\n"
   ]
  },
  {
   "cell_type": "code",
   "execution_count": null,
   "id": "4a6601a5-e28b-4351-a243-117456786950",
   "metadata": {},
   "outputs": [],
   "source": [
    "\n",
    "def minisearch(query):\n",
    "    \n",
    "    #not best place maybe\n",
    "    index = minsearch.Index(\n",
    "        text_fields=[\"question\",\"text\",\"section\"],\n",
    "        keyword_fields=['course']\n",
    "    )\n",
    "    index.fit(documents)\n",
    "\n",
    "    #higher weight for question field\n",
    "    boost = {'question': 3.0}\n",
    "    results = index.search(\n",
    "        query=user_query,\n",
    "        #filter_dict={'course':'data-engineering-zoomcamp'},\n",
    "        boost_dict=boost,\n",
    "        num_results=5\n",
    "    )\n",
    "    #results[0]\n",
    "    return results\n",
    "\n",
    "\n",
    "results_dbsearch = minisearch(user_query)\n",
    "results_dbsearch"
   ]
  },
  {
   "cell_type": "code",
   "execution_count": null,
   "id": "35742ef0",
   "metadata": {},
   "outputs": [],
   "source": [
    "def openai(query,engine='gpt-3.5-turbo'):\n",
    "\n",
    "    try:\n",
    "        client = OpenAI(api_key=os.getenv(\"OPENAI_API_KEY\"))\n",
    "\n",
    "        completion = client.chat.completions.create(\n",
    "            model=engine,\n",
    "            messages=[{\"role\":\"user\",\"content\":query}]\n",
    "        )    \n",
    "    except Error as e:\n",
    "        if e.status == 429:  # HTTP status code for Rate Limit Exceeded\n",
    "            print(\"Rate limit exceeded. Please wait and retry.\")\n",
    "        else:\n",
    "            print(f\"Error: {e}\")\n",
    "\n",
    "\n",
    "    result = completion.choices[0].message.content\n",
    "\n",
    "    return result"
   ]
  },
  {
   "cell_type": "code",
   "execution_count": null,
   "id": "f758ece7",
   "metadata": {},
   "outputs": [],
   "source": [
    "results = openai(user_query)\n",
    "results"
   ]
  },
  {
   "cell_type": "code",
   "execution_count": null,
   "id": "36f5453d",
   "metadata": {},
   "outputs": [],
   "source": [
    "prompt_template = \"\"\"\n",
    "You're a course teaching assistant. Answer the QUESTION based on the CONTEXT from the FAQ database.\n",
    "Use only the facts from the CONTEXT when answering the QUESTION.\n",
    "\n",
    "QUESTION: {question}\n",
    "\n",
    "CONTEXT: \n",
    "{context}\n",
    "\"\"\".strip()\n",
    "\n",
    "#create the context based on the db results, pass along with the prompt\n",
    "context = \"\"\n",
    "for doc in results_dbsearch:\n",
    "    context = context + f\"section: {doc['section']}\\nquestion: {doc['question']}\\nanswer: {doc['text']}\\n\\n\"\n",
    "\n",
    "prompt = prompt_template.format(question=user_query, context=context).strip()\n",
    "prompt"
   ]
  },
  {
   "cell_type": "code",
   "execution_count": null,
   "id": "6a86fc76",
   "metadata": {},
   "outputs": [],
   "source": [
    "context"
   ]
  },
  {
   "cell_type": "code",
   "execution_count": null,
   "id": "4fb55fdc",
   "metadata": {},
   "outputs": [],
   "source": [
    "prompt = build_prompt(user_query,results_dbsearch)\n",
    "prompt"
   ]
  },
  {
   "cell_type": "code",
   "execution_count": null,
   "id": "9a7d1de1",
   "metadata": {},
   "outputs": [],
   "source": [
    "results = openai(prompt)"
   ]
  },
  {
   "cell_type": "code",
   "execution_count": null,
   "id": "42792e51",
   "metadata": {},
   "outputs": [],
   "source": [
    "results"
   ]
  },
  {
   "cell_type": "code",
   "execution_count": null,
   "id": "4c03c380",
   "metadata": {},
   "outputs": [],
   "source": [
    "def rag(query):\n",
    "    search_results = minisearch(query)\n",
    "    prompt = build_prompt(query,search_results)\n",
    "    answer = openai(prompt)\n",
    "    return answer"
   ]
  },
  {
   "cell_type": "code",
   "execution_count": null,
   "id": "35fe1b39",
   "metadata": {},
   "outputs": [],
   "source": [
    "rag('how do i install kafka?')"
   ]
  },
  {
   "cell_type": "code",
   "execution_count": null,
   "id": "7fd2e7c1",
   "metadata": {},
   "outputs": [],
   "source": [
    "rag('the course has already started, can I still enroll?')"
   ]
  }
 ],
 "metadata": {
  "kernelspec": {
   "display_name": "Python 3 (ipykernel)",
   "language": "python",
   "name": "python3"
  },
  "language_info": {
   "codemirror_mode": {
    "name": "ipython",
    "version": 3
   },
   "file_extension": ".py",
   "mimetype": "text/x-python",
   "name": "python",
   "nbconvert_exporter": "python",
   "pygments_lexer": "ipython3",
   "version": "3.10.13"
  }
 },
 "nbformat": 4,
 "nbformat_minor": 5
}
